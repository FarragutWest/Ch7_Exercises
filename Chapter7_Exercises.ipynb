{
 "cells": [
  {
   "cell_type": "code",
   "execution_count": 1,
   "metadata": {},
   "outputs": [
    {
     "name": "stdout",
     "output_type": "stream",
     "text": [
      "What kind of rental car would you like?Subaru\n",
      "let me see if I can find you a Subaru\n"
     ]
    }
   ],
   "source": [
    "message=input(\"What kind of rental car would you like?\")\n",
    "print(\"let me see if I can find you a \"+message)"
   ]
  },
  {
   "cell_type": "code",
   "execution_count": 3,
   "metadata": {},
   "outputs": [
    {
     "name": "stdout",
     "output_type": "stream",
     "text": [
      "How many people are in your dinner group?7\n",
      "your table is ready\n"
     ]
    }
   ],
   "source": [
    "message=input(\"How many people are in your dinner group?\")\n",
    "if int(message)>8:\n",
    "    print('You will have to wait for a table')\n",
    "else:\n",
    "    print(\"your table is ready\")"
   ]
  },
  {
   "cell_type": "code",
   "execution_count": 6,
   "metadata": {},
   "outputs": [
    {
     "name": "stdout",
     "output_type": "stream",
     "text": [
      "give me a number30\n",
      "Yes, it is\n"
     ]
    }
   ],
   "source": [
    "number=input(\"give me a number\")\n",
    "number=int(number)\n",
    "if number % 10==0:\n",
    "    print(\"Yes, it is\")\n",
    "else:\n",
    "    print(\"No, it's not\")"
   ]
  },
  {
   "cell_type": "code",
   "execution_count": 8,
   "metadata": {},
   "outputs": [
    {
     "name": "stdout",
     "output_type": "stream",
     "text": [
      "Tell me your favorite pizza toppingsbacon\n",
      "I will add bacon to your pizza\n",
      "Tell me your favorite pizza toppingsmozarella\n",
      "I will add mozarella to your pizza\n",
      "Tell me your favorite pizza toppingsquit\n",
      "I will add quit to your pizza\n"
     ]
    }
   ],
   "source": [
    "prompt=\"Tell me your favorite pizza toppings\"\n",
    "answer=[]\n",
    "while not answer==\"quit\":\n",
    "    answer=input(prompt)\n",
    "    print(\"I will add \"+answer+\" to your pizza\")"
   ]
  },
  {
   "cell_type": "code",
   "execution_count": 14,
   "metadata": {},
   "outputs": [
    {
     "name": "stdout",
     "output_type": "stream",
     "text": [
      "what's your age?60\n",
      "the cost of your ticket is $15\n"
     ]
    }
   ],
   "source": [
    "answer=input(\"what's your age?\")\n",
    "answer=int(answer)\n",
    "if answer<3:\n",
    "    print(\"the cost of your ticket is free\")\n",
    "elif answer<=12:\n",
    "    print(\"the cost of your ticket is $10\")\n",
    "else:\n",
    "    print(\"the cost of your ticket is $15\")"
   ]
  },
  {
   "cell_type": "code",
   "execution_count": 18,
   "metadata": {},
   "outputs": [
    {
     "name": "stdout",
     "output_type": "stream",
     "text": [
      "Tell me your favorite pizza toppingsquit\n"
     ]
    }
   ],
   "source": [
    "prompt=\"Tell me your favorite pizza toppings\"\n",
    "answer=[]\n",
    "while answer!=\"quit\":\n",
    "    answer=input(prompt)\n",
    "    if answer!='quit':\n",
    "        print(\"I will add \"+answer+\" to your pizza\")"
   ]
  },
  {
   "cell_type": "code",
   "execution_count": 21,
   "metadata": {},
   "outputs": [
    {
     "name": "stdout",
     "output_type": "stream",
     "text": [
      "Tell me your favorite pizza toppingsquit\n"
     ]
    }
   ],
   "source": [
    "prompt=\"Tell me your favorite pizza toppings\"\n",
    "answer=[]\n",
    "active=True\n",
    "while active:\n",
    "    answer=input(prompt)\n",
    "    if answer=='quit':\n",
    "        active=False\n",
    "    else:\n",
    "        print(\"I will add \"+answer+\" to your pizza\")"
   ]
  },
  {
   "cell_type": "code",
   "execution_count": 22,
   "metadata": {},
   "outputs": [
    {
     "name": "stdout",
     "output_type": "stream",
     "text": [
      "Tell me your favorite pizza toppingscheese\n",
      "I will add cheese to your pizza\n",
      "Tell me your favorite pizza toppingsquit\n"
     ]
    }
   ],
   "source": [
    "prompt=\"Tell me your favorite pizza toppings\"\n",
    "while True:\n",
    "    answer=input(prompt)\n",
    "    if answer=='quit':\n",
    "        break\n",
    "    else:\n",
    "        print(\"I will add \"+answer+\" to your pizza\")"
   ]
  },
  {
   "cell_type": "code",
   "execution_count": 28,
   "metadata": {},
   "outputs": [
    {
     "name": "stdout",
     "output_type": "stream",
     "text": [
      "I made you a Italian Sub\n",
      "I made you a Med Chicken\n",
      "I made you a Cubano\n",
      "I made you a Reuben\n",
      "the following orders have been completed:\n",
      "Italian Sub\n",
      "Med Chicken\n",
      "Cubano\n",
      "Reuben\n"
     ]
    }
   ],
   "source": [
    "sandwich_orders=[\"Reuben\",\"Cubano\",\"Med Chicken\",\"Italian Sub\"]\n",
    "finished_orders=[]\n",
    "while sandwich_orders:\n",
    "    current_order=sandwich_orders.pop()\n",
    "    print(\"I made you a \"+current_order.title())\n",
    "    finished_orders.append(current_order)    \n",
    "print(\"the following orders have been completed:\")\n",
    "for order in finished_orders:\n",
    "    print(order.title())"
   ]
  },
  {
   "cell_type": "code",
   "execution_count": 30,
   "metadata": {},
   "outputs": [
    {
     "name": "stdout",
     "output_type": "stream",
     "text": [
      "The deli has ran out of pastrami\n",
      "I made you a Italian Sub\n",
      "I made you a Med Chicken\n",
      "I made you a Cubano\n",
      "I made you a Reuben\n",
      "the following orders have been completed:\n",
      "Italian Sub\n",
      "Med Chicken\n",
      "Cubano\n",
      "Reuben\n"
     ]
    }
   ],
   "source": [
    "sandwich_orders=[\"Reuben\",\"Cubano\",\"Med Chicken\",\"Italian Sub\",'Pastrami','Pastrami','Pastrami']\n",
    "finished_orders=[]\n",
    "print('The deli has ran out of pastrami')\n",
    "while \"Pastrami\" in sandwich_orders:\n",
    "    sandwich_orders.remove('Pastrami')\n",
    "while sandwich_orders:\n",
    "    current_order=sandwich_orders.pop()\n",
    "    print(\"I made you a \"+current_order.title())\n",
    "    finished_orders.append(current_order)   \n",
    "print(\"the following orders have been completed:\")\n",
    "for order in finished_orders:\n",
    "    print(order.title())"
   ]
  },
  {
   "cell_type": "code",
   "execution_count": 34,
   "metadata": {},
   "outputs": [
    {
     "name": "stdout",
     "output_type": "stream",
     "text": [
      "What's your name?Aleks\n",
      "What's your dream vacation?positano\n",
      "Anyone else?yes\n",
      "What's your name?Vald\n",
      "What's your dream vacation?Budva\n",
      "Anyone else?yes\n",
      "What's your name?Angleina\n",
      "What's your dream vacation?Scotland\n",
      "Anyone else?no\n",
      "What's your name?no\n",
      "What's your dream vacation?no\n",
      "Anyone else?No\n",
      "polling results:\n",
      "Aleks would like to go to positano.\n",
      "Vald would like to go to Budva.\n",
      "Angleina would like to go to Scotland.\n",
      "no would like to go to no.\n"
     ]
    }
   ],
   "source": [
    "responses={}\n",
    "polling_active=True\n",
    "while polling_active:\n",
    "    name=input(\"What's your name?\")\n",
    "    response=input(\"What's your dream vacation?\")\n",
    "    responses[name]=response\n",
    "    next_person=input(\"Anyone else?\")\n",
    "    if next_person==\"No\":\n",
    "        polling_active=False\n",
    "print(\"polling results:\")\n",
    "for name, response in responses.items():\n",
    "    print(name+ \" would like to go to \"+response+\".\")"
   ]
  },
  {
   "cell_type": "code",
   "execution_count": null,
   "metadata": {},
   "outputs": [],
   "source": []
  },
  {
   "cell_type": "code",
   "execution_count": null,
   "metadata": {},
   "outputs": [],
   "source": []
  }
 ],
 "metadata": {
  "kernelspec": {
   "display_name": "Python 3",
   "language": "python",
   "name": "python3"
  },
  "language_info": {
   "codemirror_mode": {
    "name": "ipython",
    "version": 3
   },
   "file_extension": ".py",
   "mimetype": "text/x-python",
   "name": "python",
   "nbconvert_exporter": "python",
   "pygments_lexer": "ipython3",
   "version": "3.7.6"
  }
 },
 "nbformat": 4,
 "nbformat_minor": 4
}
